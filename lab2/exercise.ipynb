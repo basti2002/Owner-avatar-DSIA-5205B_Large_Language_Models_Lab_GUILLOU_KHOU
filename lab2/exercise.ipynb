{
 "cells": [
  {
   "cell_type": "markdown",
   "id": "ebc5487d",
   "metadata": {},
   "source": [
    "# Bastien GUILLOU and Ryan KHOU"
   ]
  },
  {
   "cell_type": "markdown",
   "id": "ab88d307-61ba-45ef-89bc-e3569443dfca",
   "metadata": {},
   "source": [
    "# Chapter 2 - Lab 1a - Exercise\n",
    "> Author : Badr TAJINI - Large Language model (LLMs) - ESIEE 2024-2025"
   ]
  },
  {
   "cell_type": "markdown",
   "id": "6f678e62-7bcb-4405-86ae-dce94f494303",
   "metadata": {},
   "source": [
    "# Exercise 2.1"
   ]
  },
  {
   "cell_type": "markdown",
   "id": "46fde9a6",
   "metadata": {},
   "source": [
    "### Exploring Byte Pair Encoding (BPE) Tokenization with Unknown Words\n",
    "\n",
    "In this exercise, you will explore how the Byte Pair Encoding (BPE) tokenizer from the `tiktoken` library processes unknown words. BPE is a subword tokenization technique that constructs its vocabulary by iteratively merging frequent sequences of characters or subwords. This approach allows BPE tokenizers to handle previously unseen words by decomposing them into smaller, known subunits.\n",
    "\n",
    "### Objective\n",
    "Answer the following questions based on your experimentation with the tokenizer:\n",
    "\n",
    "1. How does the BPE tokenizer decompose the input phrase **\"Akwirw ier\"** into token IDs?\n",
    "2. What are the subwords or characters corresponding to each token ID in the tokenized output?\n",
    "3. Can the tokenizer's decoding process successfully reconstruct the original input phrase **\"Akwirw ier\"** from the token IDs? Why or why not?\n",
    "\n",
    "### Theoretical Background\n",
    "Byte Pair Encoding begins with a minimal vocabulary of single characters, such as **\"a,\" \"b,\" \"c,\"** and so on. The tokenizer builds upon this base by iteratively merging frequently co-occurring characters into subwords, and subsequently merging frequent subwords into complete words. The merging process is guided by a frequency threshold or cutoff. \n",
    "\n",
    "For example:\n",
    "- In the initial stage, the character **\"d\"** and **\"e\"** might frequently appear together in a corpus. The tokenizer merges these characters into the subword **\"de\"** if their co-occurrence exceeds the frequency cutoff.\n",
    "- This subword then becomes part of the tokenizer's vocabulary and is used to tokenize words where it occurs, such as **\"define,\" \"depend,\" \"made,\"** and **\"hidden.\"**\n",
    "\n",
    "This hierarchical merging enables the BPE tokenizer to strike a balance between granularity and generalization, efficiently encoding both common words and rare or unknown words by breaking them into smaller units.\n",
    "\n",
    "### Task Steps\n",
    "\n",
    "1. **Tokenization**:\n",
    "   - Use the `tiktoken` BPE tokenizer to process the unknown input string **\"Akwirw ier.\"**\n",
    "   - Print the token IDs generated for this input.\n",
    "\n",
    "2. **Subword Decoding**:\n",
    "   - For each token ID in the resulting list, use the tokenizer's `decode` function to convert the ID back into its corresponding subword or character.\n",
    "\n",
    "3. **Reconstruction**:\n",
    "   - Apply the `decode` method to the entire list of token IDs to reconstruct the original input string. Verify whether the reconstructed string matches the initial input, **\"Akwirw ier.\"**\n",
    "\n",
    "\n",
    "\n",
    "### Questions - Exercise 2.1\n",
    "1. What sequence of token IDs does the BPE tokenizer generate for the input **\"Akwirw ier\"?**\n",
    "2. What subwords or characters correspond to each token ID in the sequence?\n",
    "3. Does the reconstructed output from the token IDs match the original input? Explain your observations and reasoning.\n",
    "\n"
   ]
  },
  {
   "cell_type": "markdown",
   "id": "af81864b",
   "metadata": {},
   "source": [
    "---"
   ]
  },
  {
   "cell_type": "code",
   "execution_count": 2,
   "id": "c209454b",
   "metadata": {},
   "outputs": [
    {
     "name": "stdout",
     "output_type": "stream",
     "text": [
      "Collecting tiktoken\n",
      "  Downloading tiktoken-0.8.0-cp312-cp312-win_amd64.whl.metadata (6.8 kB)\n",
      "Requirement already satisfied: regex>=2022.1.18 in c:\\python312\\lib\\site-packages (from tiktoken) (2023.12.25)\n",
      "Requirement already satisfied: requests>=2.26.0 in c:\\python312\\lib\\site-packages (from tiktoken) (2.31.0)\n",
      "Requirement already satisfied: charset-normalizer<4,>=2 in c:\\python312\\lib\\site-packages (from requests>=2.26.0->tiktoken) (3.3.2)\n",
      "Requirement already satisfied: idna<4,>=2.5 in c:\\users\\raize\\appdata\\roaming\\python\\python312\\site-packages (from requests>=2.26.0->tiktoken) (2.10)\n",
      "Requirement already satisfied: urllib3<3,>=1.21.1 in c:\\python312\\lib\\site-packages (from requests>=2.26.0->tiktoken) (2.1.0)\n",
      "Requirement already satisfied: certifi>=2017.4.17 in c:\\python312\\lib\\site-packages (from requests>=2.26.0->tiktoken) (2023.11.17)\n",
      "Downloading tiktoken-0.8.0-cp312-cp312-win_amd64.whl (883 kB)\n",
      "   ---------------------------------------- 0.0/883.8 kB ? eta -:--:--\n",
      "   --------------------------------------- 883.8/883.8 kB 13.2 MB/s eta 0:00:00\n",
      "Installing collected packages: tiktoken\n",
      "Successfully installed tiktoken-0.8.0\n"
     ]
    },
    {
     "name": "stderr",
     "output_type": "stream",
     "text": [
      "WARNING: Ignoring invalid distribution ~ (C:\\Python312\\Lib\\site-packages)\n",
      "WARNING: Ignoring invalid distribution ~ip (C:\\Python312\\Lib\\site-packages)\n",
      "WARNING: Ignoring invalid distribution ~ (C:\\Python312\\Lib\\site-packages)\n",
      "WARNING: Ignoring invalid distribution ~ip (C:\\Python312\\Lib\\site-packages)\n",
      "WARNING: Ignoring invalid distribution ~ (C:\\Python312\\Lib\\site-packages)\n",
      "WARNING: Ignoring invalid distribution ~ip (C:\\Python312\\Lib\\site-packages)\n",
      "\n",
      "[notice] A new release of pip is available: 24.2 -> 24.3.1\n",
      "[notice] To update, run: python.exe -m pip install --upgrade pip\n"
     ]
    }
   ],
   "source": [
    "!pip install tiktoken"
   ]
  },
  {
   "cell_type": "code",
   "execution_count": 8,
   "id": "7187e34a",
   "metadata": {},
   "outputs": [
    {
     "name": "stdout",
     "output_type": "stream",
     "text": [
      "Token IDs: [33901, 86, 343, 86, 220, 959]\n"
     ]
    }
   ],
   "source": [
    "import tiktoken\n",
    "\n",
    "## 1 - Tokenization\n",
    "# Initialize the BPE tokenizer\n",
    "tokenizer = tiktoken.get_encoding(\"gpt2\")\n",
    "\n",
    "# Input phrase\n",
    "input_phrase = \"Akwirw ier\"\n",
    "\n",
    "# Tokenize the input phrase\n",
    "integers = tokenizer.encode(input_phrase)\n",
    "print(\"Token IDs:\", integers)"
   ]
  },
  {
   "cell_type": "code",
   "execution_count": 12,
   "id": "172bcdf2",
   "metadata": {},
   "outputs": [
    {
     "name": "stdout",
     "output_type": "stream",
     "text": [
      "Subwords corresponding to Token IDs: ['Ak', 'w', 'ir', 'w', ' ', 'ier']\n",
      "Ak = 33901 \n",
      "w = 86 \n",
      "ir = 343 \n",
      "w = 86 \n",
      "  = 220 \n",
      "ier = 959 \n"
     ]
    }
   ],
   "source": [
    "## 2 - Decoding\n",
    "# Decode each token ID to subword/character\n",
    "subwords = [tokenizer.decode([i]) for i in integers]\n",
    "print(\"Subwords corresponding to Token IDs:\", subwords)\n",
    "\n",
    "for i in integers:\n",
    "    print(f\"{tokenizer.decode([i])} = {i} \")"
   ]
  },
  {
   "cell_type": "code",
   "execution_count": 14,
   "id": "16070bc1",
   "metadata": {},
   "outputs": [
    {
     "data": {
      "text/plain": [
       "'Akwirw ier'"
      ]
     },
     "execution_count": 14,
     "metadata": {},
     "output_type": "execute_result"
    }
   ],
   "source": [
    "## 3 - Reconstruction\n",
    "# Decode the entire tokenized sequence back to a string\n",
    "tokenizer.decode([33901, 86, 343, 86, 220, 959])\n"
   ]
  },
  {
   "cell_type": "markdown",
   "id": "95c74785",
   "metadata": {},
   "source": [
    "# Answers\n",
    "1) The token_ids output lists the sequence of IDs generated for the input phrase.\n",
    "2) The subwords output shows the corresponding subword or character for each token ID.\n",
    "3) If the reconstructed phrase matches the original input, it demonstrates the tokenizer's fidelity. Discrepancies occur if unknown characters are approximated or skipped.\n"
   ]
  },
  {
   "cell_type": "markdown",
   "id": "29e5034a-95ed-46d8-9972-589354dc9fd4",
   "metadata": {},
   "source": [
    "---\n",
    "\n",
    "# Exercise 2.2"
   ]
  },
  {
   "cell_type": "markdown",
   "id": "fde21e07",
   "metadata": {},
   "source": [
    "**Exercise: Exploring Data Loader Behavior with Different Parameters**\n",
    "\n",
    "Certainly! Here's the exercise rewritten in the same structured style as the first one, ensuring clarity and consistency:\n",
    "\n",
    "---\n",
    "\n",
    "**Exercise: Exploring Data Loader Behavior with Different Parameter Configurations**\n",
    "\n",
    "In this exercise, you will investigate how the parameters of a data loader—such as `max_length`, `stride`, and `batch_size`—affect the preparation of input-output pairs for training large language models (LLMs). By experimenting with these settings, you will gain a practical understanding of their impact on the data batching process and their implications for model training.\n",
    "\n",
    "### Objective\n",
    "You will:\n",
    "1. Observe how the data loader generates input-output pairs with different configurations of `max_length` and `stride`.\n",
    "2. Analyze how increasing the batch size changes the structure of the data and discuss the tradeoffs involved.\n",
    "3. Experiment with a batch size greater than 1 to understand how it impacts memory usage and input-output organization.\n",
    "\n",
    "---\n",
    "\n",
    "### Theoretical Background\n",
    "\n",
    "A data loader processes raw text data into smaller sequences suitable for training LLMs. Key parameters that influence its behavior are:\n",
    "\n",
    "1. **`max_length`**: Specifies the maximum sequence length for each input-output pair. Shorter sequences may simplify computation but can limit the context available to the model.\n",
    "   \n",
    "2. **`stride`**: Determines the step size for sliding the window over the text when creating sequences. A smaller stride increases overlap between sequences, leading to more redundancy. A larger stride reduces overlap, ensuring more unique coverage of the dataset.\n",
    "\n",
    "3. **`batch_size`**: Controls the number of sequences in a batch:\n",
    "   - **Small batches** (e.g., `batch_size=1`) are easier to process and require less memory. However, they can produce noisier gradient updates during training.\n",
    "   - **Larger batches** improve gradient stability but require more memory and computational power. This parameter is an important hyperparameter to tune during training.\n",
    "\n",
    "These parameters are central to efficient and effective preprocessing of data for training deep learning models.\n",
    "\n",
    "---\n",
    "\n",
    "### Task Steps\n",
    "\n",
    "1. **Experimenting with `max_length` and `stride`**:\n",
    "   - Run the data loader with two configurations:\n",
    "     - `max_length=2` and `stride=2`\n",
    "     - `max_length=8` and `stride=2`\n",
    "   - Observe the structure of the input-output pairs for each configuration and note how they differ.\n",
    "\n",
    "2. **Increasing Batch Size**:\n",
    "   - Experiment with a batch size of 8 using the following configuration:\n",
    "     ```python\n",
    "     dataloader = create_dataloader_v1(\n",
    "         raw_text, batch_size=8, max_length=4, stride=4,\n",
    "         shuffle=False\n",
    "     )\n",
    "     data_iter = iter(dataloader)\n",
    "     inputs, targets = next(data_iter)\n",
    "     print(\"Inputs:\\n\", inputs)\n",
    "     print(\"\\nTargets:\\n\", targets)\n",
    "     ```\n",
    "   - Examine the resulting `inputs` and `targets`. Consider how the data is structured when `batch_size` is increased compared to a batch size of 1.\n",
    "\n",
    "3. **Avoiding Overlap**:\n",
    "   - Analyze the effect of a `stride=4` setting. Note that this value ensures no overlap between sequences within a batch, minimizing redundancy and reducing the risk of overfitting.\n",
    "\n",
    "---\n",
    "\n",
    "### Questions - Exercise 2.2\n",
    "\n",
    "1. How do changes in `max_length` and `stride` affect the input-output mappings produced by the data loader?  \n",
    "2. What differences do you observe in the data when using a batch size of 8 compared to a batch size of 1?  \n",
    "3. How does using a larger stride (e.g., `stride=4`) influence the coverage of the dataset and the overlap between sequences?  \n",
    "\n",
    "---\n",
    "\n",
    "### Example Output\n",
    "\n",
    "Using the configuration:\n",
    "```python\n",
    "dataloader = create_dataloader_v1(\n",
    "    raw_text, batch_size=8, max_length=4, stride=4,\n",
    "    shuffle=False\n",
    ")\n",
    "data_iter = iter(dataloader)\n",
    "inputs, targets = next(data_iter)\n",
    "print(\"Inputs:\\n\", inputs)\n",
    "print(\"\\nTargets:\\n\", targets)\n",
    "```\n",
    "\n",
    "**Inputs**:\n",
    "```plaintext\n",
    "tensor([[   40,   367,  2885,  1464],\n",
    "        [ 1807,  3619,   402,   271],\n",
    "        [10899,  2138,   257,  7026],\n",
    "        [15632,   438,  2016,   257],\n",
    "        [  922,  5891,  1576,   438],\n",
    "        [  568,   340,   373,   645],\n",
    "        [ 1049,  5975,   284,   502],\n",
    "        [  284,  3285,   326,    11]])\n",
    "```\n",
    "\n",
    "**Targets**:\n",
    "```plaintext\n",
    "tensor([[  367,  2885,  1464,  1807],\n",
    "        [ 3619,   402,   271, 10899],\n",
    "        [ 2138,   257,  7026, 15632],\n",
    "        [  438,  2016,   257,   922],\n",
    "        [ 5891,  1576,   438,   568],\n",
    "        [  340,   373,   645,  1049],\n",
    "        [ 5975,   284,   502,   284],\n",
    "        [ 3285,   326,    11,   287]])\n",
    "```\n",
    "\n",
    "---\n",
    "\n",
    "### Expected Learning Outcomes\n",
    "\n",
    "By completing this exercise, you should:\n",
    "1. Understand how varying `max_length` and `stride` impacts the input-output pairs produced by the data loader.\n",
    "2. Appreciate the tradeoffs involved in choosing different batch sizes for training deep learning models.\n",
    "3. Gain insight into how stride settings can minimize redundancy and optimize dataset utilization."
   ]
  },
  {
   "cell_type": "markdown",
   "id": "29184437",
   "metadata": {},
   "source": [
    "---\n"
   ]
  },
  {
   "cell_type": "code",
   "execution_count": 17,
   "id": "2d258d51",
   "metadata": {},
   "outputs": [
    {
     "name": "stdout",
     "output_type": "stream",
     "text": [
      "Requirement already satisfied: torch in c:\\users\\raize\\appdata\\roaming\\python\\python312\\site-packages (2.5.0)\n",
      "Requirement already satisfied: filelock in c:\\users\\raize\\appdata\\roaming\\python\\python312\\site-packages (from torch) (3.16.1)\n",
      "Requirement already satisfied: typing-extensions>=4.8.0 in c:\\python312\\lib\\site-packages (from torch) (4.9.0)\n",
      "Requirement already satisfied: networkx in c:\\users\\raize\\appdata\\roaming\\python\\python312\\site-packages (from torch) (3.4.1)\n",
      "Requirement already satisfied: jinja2 in c:\\users\\raize\\appdata\\roaming\\python\\python312\\site-packages (from torch) (3.1.3)\n",
      "Requirement already satisfied: fsspec in c:\\users\\raize\\appdata\\roaming\\python\\python312\\site-packages (from torch) (2024.10.0)\n",
      "Requirement already satisfied: setuptools in c:\\python312\\lib\\site-packages (from torch) (69.0.2)\n",
      "Requirement already satisfied: sympy==1.13.1 in c:\\users\\raize\\appdata\\roaming\\python\\python312\\site-packages (from torch) (1.13.1)\n",
      "Requirement already satisfied: mpmath<1.4,>=1.1.0 in c:\\users\\raize\\appdata\\roaming\\python\\python312\\site-packages (from sympy==1.13.1->torch) (1.3.0)\n",
      "Requirement already satisfied: MarkupSafe>=2.0 in c:\\users\\raize\\appdata\\roaming\\python\\python312\\site-packages (from jinja2->torch) (3.0.2)\n"
     ]
    },
    {
     "name": "stderr",
     "output_type": "stream",
     "text": [
      "WARNING: Ignoring invalid distribution ~ (C:\\Python312\\Lib\\site-packages)\n",
      "WARNING: Ignoring invalid distribution ~ip (C:\\Python312\\Lib\\site-packages)\n",
      "WARNING: Ignoring invalid distribution ~ (C:\\Python312\\Lib\\site-packages)\n",
      "WARNING: Ignoring invalid distribution ~ip (C:\\Python312\\Lib\\site-packages)\n",
      "WARNING: Ignoring invalid distribution ~ (C:\\Python312\\Lib\\site-packages)\n",
      "WARNING: Ignoring invalid distribution ~ip (C:\\Python312\\Lib\\site-packages)\n",
      "\n",
      "[notice] A new release of pip is available: 24.2 -> 25.0\n",
      "[notice] To update, run: python.exe -m pip install --upgrade pip\n"
     ]
    }
   ],
   "source": [
    "!pip install torch"
   ]
  },
  {
   "cell_type": "code",
   "execution_count": 22,
   "id": "86e165eb",
   "metadata": {},
   "outputs": [
    {
     "data": {
      "text/plain": [
       "tensor([[  40,  367],\n",
       "        [2885, 1464],\n",
       "        [1807, 3619],\n",
       "        [ 402,  271]])"
      ]
     },
     "execution_count": 22,
     "metadata": {},
     "output_type": "execute_result"
    }
   ],
   "source": [
    "# Importing Required Modules\n",
    "import torch\n",
    "from torch.utils.data import Dataset, DataLoader\n",
    "\n",
    "# Defining the Custom Dataset Class\n",
    "class GPTDatasetV1(Dataset):\n",
    "    def __init__(self, txt, tokenizer, max_length, stride):\n",
    "        self.input_ids = []\n",
    "        self.target_ids = []\n",
    "\n",
    "        # Tokenize the entire text\n",
    "        token_ids = tokenizer.encode(txt, allowed_special={\"<|endoftext|>\"})\n",
    "\n",
    "        # Use a sliding window to chunk the book into overlapping sequences of max_length\n",
    "        for i in range(0, len(token_ids) - max_length, stride):\n",
    "            input_chunk = token_ids[i:i + max_length]\n",
    "            target_chunk = token_ids[i + 1: i + max_length + 1]\n",
    "            self.input_ids.append(torch.tensor(input_chunk))\n",
    "            self.target_ids.append(torch.tensor(target_chunk))\n",
    "\n",
    "    def __len__(self):\n",
    "        return len(self.input_ids)\n",
    "\n",
    "    def __getitem__(self, idx):\n",
    "        return self.input_ids[idx], self.target_ids[idx]\n",
    "    \n",
    "def create_dataloader(txt, batch_size=4, max_length=256, stride=128):\n",
    "    # Initialize the tokenizer\n",
    "    tokenizer = tiktoken.get_encoding(\"gpt2\")\n",
    "\n",
    "    # Create dataset\n",
    "    dataset = GPTDatasetV1(txt, tokenizer, max_length, stride)\n",
    "\n",
    "    # Create dataloader\n",
    "    dataloader = DataLoader(dataset, batch_size=batch_size)\n",
    "\n",
    "    return dataloader\n",
    "\n",
    "with open(\"the-verdict.txt\", \"r\", encoding=\"utf-8\") as f:\n",
    "    raw_text = f.read()\n",
    "    \n",
    "vocab_size = 50257\n",
    "output_dim = 256\n",
    "\n",
    "token_embedding_layer = torch.nn.Embedding(vocab_size, output_dim)\n",
    "\n",
    "max_length = 4\n",
    "context_length = max_length\n",
    "pos_embedding_layer = torch.nn.Embedding(context_length, output_dim)\n",
    "\n",
    "# max_length = 2, stride = 2\n",
    "dataloader = create_dataloader(raw_text, batch_size=4, max_length=2, stride=2)\n",
    "\n",
    "def print_batch_dataloader(dataloader):\n",
    "    for batch in dataloader:\n",
    "        x, y = batch\n",
    "        break\n",
    "    return x\n",
    "\n",
    "print_batch_dataloader(dataloader)\n"
   ]
  },
  {
   "cell_type": "code",
   "execution_count": 23,
   "id": "3f660757",
   "metadata": {},
   "outputs": [
    {
     "data": {
      "text/plain": [
       "tensor([[   40,   367,  2885,  1464,  1807,  3619,   402,   271],\n",
       "        [ 2885,  1464,  1807,  3619,   402,   271, 10899,  2138],\n",
       "        [ 1807,  3619,   402,   271, 10899,  2138,   257,  7026],\n",
       "        [  402,   271, 10899,  2138,   257,  7026, 15632,   438]])"
      ]
     },
     "execution_count": 23,
     "metadata": {},
     "output_type": "execute_result"
    }
   ],
   "source": [
    "# max_length = 8, stride = 2\n",
    "dataloader = create_dataloader(raw_text, batch_size=4, max_length=8, stride=2)\n",
    "\n",
    "print_batch_dataloader(dataloader)"
   ]
  },
  {
   "cell_type": "markdown",
   "id": "8b7ede17",
   "metadata": {},
   "source": [
    "# Answers\n",
    "1) 'max_length' controls the size of each input-output pair. Larger values increase the context available to the model but require more memory. 'stride' determines the overlap between pairs. Smaller strides increase redundancy, while larger strides reduce it.\n",
    "\n",
    "2) Increasing batch_size groups more sequences together, leading to more efficient computation but higher memory usage.\n",
    "\n",
    "3) Larger strides ensure more unique coverage of the dataset with minimal overlap, which can help in reducing overfitting."
   ]
  }
 ],
 "metadata": {
  "kernelspec": {
   "display_name": "Python 3",
   "language": "python",
   "name": "python3"
  },
  "language_info": {
   "codemirror_mode": {
    "name": "ipython",
    "version": 3
   },
   "file_extension": ".py",
   "mimetype": "text/x-python",
   "name": "python",
   "nbconvert_exporter": "python",
   "pygments_lexer": "ipython3",
   "version": "3.12.0"
  }
 },
 "nbformat": 4,
 "nbformat_minor": 5
}
